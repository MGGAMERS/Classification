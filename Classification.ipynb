{
 "cells": [
  {
   "cell_type": "code",
   "execution_count": null,
   "id": "f4ff9ae8",
   "metadata": {},
   "outputs": [],
   "source": [
    "import pandas as pd\n",
    "import numpy as np\n",
    "from sklearn.model_selection import train_test_split\n",
    "from sklearn.ensemble import RandomForestClassifier\n",
    "from sklearn.metrics import accuracy_score, classification_report"
   ]
  },
  {
   "cell_type": "code",
   "execution_count": 2,
   "id": "631e41d6",
   "metadata": {},
   "outputs": [],
   "source": [
    "data = {\n",
    "    'hours_studied': [5, 10, 2, 8, 3, 9, 7, 6, 4, 10],\n",
    "    'previous_score': [70, 80, 60, 85, 65, 90, 75, 80, 60, 95],\n",
    "    'engagement_level': [3, 5, 2, 4, 3, 5, 4, 4, 2, 5], \n",
    "    'learning_preference': [1, 2, 1, 2, 1, 2, 1, 1, 1, 2],  # 1 = visual, 2 = auditory\n",
    "    'predicted_score': [75, 85, 70, 90, 68, 95, 80, 88, 72, 92]\n",
    "}\n",
    "df = pd.DataFrame(data)"
   ]
  },
  {
   "cell_type": "code",
   "execution_count": 3,
   "id": "fbb033f5",
   "metadata": {},
   "outputs": [],
   "source": [
    "def categorize_score(score):\n",
    "    if score < 75:\n",
    "        return 'Low'\n",
    "    elif score < 85:\n",
    "        return 'Medium'\n",
    "    else:\n",
    "        return 'High'\n",
    "\n",
    "df['score_category'] = df['predicted_score'].apply(categorize_score)"
   ]
  },
  {
   "cell_type": "code",
   "execution_count": 4,
   "id": "4500b1a9",
   "metadata": {},
   "outputs": [],
   "source": [
    "X = df[['hours_studied', 'previous_score', 'engagement_level', 'learning_preference']]\n",
    "y = df['score_category']"
   ]
  },
  {
   "cell_type": "code",
   "execution_count": 5,
   "id": "ef237cee",
   "metadata": {},
   "outputs": [],
   "source": [
    "X_train, X_test, y_train, y_test = train_test_split(X, y, test_size=0.2, random_state=42)\n"
   ]
  },
  {
   "cell_type": "code",
   "execution_count": 6,
   "id": "1f058142",
   "metadata": {},
   "outputs": [
    {
     "data": {
      "text/plain": [
       "RandomForestClassifier(random_state=42)"
      ]
     },
     "execution_count": 6,
     "metadata": {},
     "output_type": "execute_result"
    }
   ],
   "source": [
    "model = RandomForestClassifier(n_estimators=100, random_state=42)\n",
    "model.fit(X_train, y_train)"
   ]
  },
  {
   "cell_type": "code",
   "execution_count": 7,
   "id": "967460aa",
   "metadata": {},
   "outputs": [],
   "source": [
    "y_pred = model.predict(X_test)"
   ]
  },
  {
   "cell_type": "code",
   "execution_count": 11,
   "id": "c6c8816e",
   "metadata": {},
   "outputs": [],
   "source": [
    "def recommend_learning_material(category):\n",
    "    if category == 'Low':\n",
    "        return \"Recommend additional practice materials\"\n",
    "    elif category == 'Medium':\n",
    "        return \"Recommend intermediate-level materials\"\n",
    "    else:\n",
    "        return \"Recommend advanced learning resources\"\n"
   ]
  },
  {
   "cell_type": "code",
   "execution_count": 12,
   "id": "57ebb8bb",
   "metadata": {},
   "outputs": [
    {
     "name": "stdout",
     "output_type": "stream",
     "text": [
      "Personalized Recommendation: Recommend additional practice materials\n"
     ]
    }
   ],
   "source": [
    "student_category = y_pred[0]  # Let's take the first prediction as an example\n",
    "recommendation = recommend_learning_material(student_category)\n",
    "print(f\"Personalized Recommendation: {recommendation}\")"
   ]
  }
 ],
 "metadata": {
  "kernelspec": {
   "display_name": "Python 3 (ipykernel)",
   "language": "python",
   "name": "python3"
  },
  "language_info": {
   "codemirror_mode": {
    "name": "ipython",
    "version": 3
   },
   "file_extension": ".py",
   "mimetype": "text/x-python",
   "name": "python",
   "nbconvert_exporter": "python",
   "pygments_lexer": "ipython3",
   "version": "3.9.12"
  }
 },
 "nbformat": 4,
 "nbformat_minor": 5
}
